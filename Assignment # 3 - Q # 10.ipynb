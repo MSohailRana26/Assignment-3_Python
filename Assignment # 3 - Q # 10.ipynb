{
 "cells": [
  {
   "cell_type": "code",
   "execution_count": 2,
   "id": "5991f244",
   "metadata": {},
   "outputs": [
    {
     "name": "stdout",
     "output_type": "stream",
     "text": [
      "Initial List:  [1, 2, 3, 4, 'aamir', 'basit', 'junaid', 5, 3, 2]\n",
      "Sum of All the Numeric Items in the List:  20\n"
     ]
    }
   ],
   "source": [
    "# Question No. 10.\n",
    "# Write a Python program to sum all the numeric items in a list.\n",
    "initial_list = [1, 2, 3, 4, 'aamir', 'basit', 'junaid', 5, 3, 2]\n",
    "print (\"Initial List: \", str(initial_list))\n",
    "sumOfNumbers = sum(filter(lambda number: isinstance(number, int), initial_list))\n",
    "print (\"Sum of All the Numeric Items in the List: \", sumOfNumbers)"
   ]
  },
  {
   "cell_type": "code",
   "execution_count": null,
   "id": "737af65d",
   "metadata": {},
   "outputs": [],
   "source": []
  }
 ],
 "metadata": {
  "kernelspec": {
   "display_name": "Python 3",
   "language": "python",
   "name": "python3"
  },
  "language_info": {
   "codemirror_mode": {
    "name": "ipython",
    "version": 3
   },
   "file_extension": ".py",
   "mimetype": "text/x-python",
   "name": "python",
   "nbconvert_exporter": "python",
   "pygments_lexer": "ipython3",
   "version": "3.8.8"
  }
 },
 "nbformat": 4,
 "nbformat_minor": 5
}
