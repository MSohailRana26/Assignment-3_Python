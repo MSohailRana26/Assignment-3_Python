{
 "cells": [
  {
   "cell_type": "code",
   "execution_count": 2,
   "id": "5e3a00dd",
   "metadata": {},
   "outputs": [
    {
     "name": "stdout",
     "output_type": "stream",
     "text": [
      "Enter radius of Area (cm): 23\n",
      "The Area of given Radius is:  1661.0600000000002 cm\n"
     ]
    }
   ],
   "source": [
    "# Question # 4:\n",
    "# Write a Python program which accepts the radius of a circle from the user and compute the area.\n",
    "radius = input(\"Enter radius of Area (cm): \");\n",
    "radius = float(radius);\n",
    "print(\"The Area of given Radius is: \", (radius**2) * 3.14  , \"cm\");\n"
   ]
  },
  {
   "cell_type": "code",
   "execution_count": null,
   "id": "9a3bf94c",
   "metadata": {},
   "outputs": [],
   "source": []
  }
 ],
 "metadata": {
  "kernelspec": {
   "display_name": "Python 3",
   "language": "python",
   "name": "python3"
  },
  "language_info": {
   "codemirror_mode": {
    "name": "ipython",
    "version": 3
   },
   "file_extension": ".py",
   "mimetype": "text/x-python",
   "name": "python",
   "nbconvert_exporter": "python",
   "pygments_lexer": "ipython3",
   "version": "3.8.8"
  }
 },
 "nbformat": 4,
 "nbformat_minor": 5
}
