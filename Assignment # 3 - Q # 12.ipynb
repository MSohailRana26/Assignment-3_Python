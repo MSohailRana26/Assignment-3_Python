{
 "cells": [
  {
   "cell_type": "code",
   "execution_count": 6,
   "id": "0869f8ee",
   "metadata": {},
   "outputs": [
    {
     "name": "stdout",
     "output_type": "stream",
     "text": [
      "[2, 1, 3, 2, 4]\n"
     ]
    }
   ],
   "source": [
    "# Question # 12.\n",
    "# Write a Python program that prints out all the elements of the list that are less than 5.\n",
    "new_list = [2, 13, 1, 20, 8, 12, 3, 5, 2, 4] \n",
    "filtered_list = [x for x in new_list if x < 5]\n",
    "resultant_list = filtered_list\n",
    "print(resultant_list)"
   ]
  },
  {
   "cell_type": "code",
   "execution_count": null,
   "id": "f2e35c91",
   "metadata": {},
   "outputs": [],
   "source": []
  },
  {
   "cell_type": "code",
   "execution_count": null,
   "id": "74201119",
   "metadata": {},
   "outputs": [],
   "source": []
  }
 ],
 "metadata": {
  "kernelspec": {
   "display_name": "Python 3",
   "language": "python",
   "name": "python3"
  },
  "language_info": {
   "codemirror_mode": {
    "name": "ipython",
    "version": 3
   },
   "file_extension": ".py",
   "mimetype": "text/x-python",
   "name": "python",
   "nbconvert_exporter": "python",
   "pygments_lexer": "ipython3",
   "version": "3.8.8"
  }
 },
 "nbformat": 4,
 "nbformat_minor": 5
}
