{
 "cells": [
  {
   "cell_type": "code",
   "execution_count": 7,
   "id": "b9143510",
   "metadata": {
    "scrolled": true
   },
   "outputs": [
    {
     "name": "stdout",
     "output_type": "stream",
     "text": [
      "[1, 12, 3, 14, 5, 16, 7, 8, 49, 10, 25, 36]\n",
      "Length of the List is: 12\n"
     ]
    }
   ],
   "source": [
    "# Question # 9:\n",
    "# Write a Python program which prins the length of the list.\n",
    "listOfNumbers = [1,12,3,14,5,16,7,8,49,10, 25, 36];\n",
    "print(listOfNumbers);\n",
    "print(\"Length of the List is:\" , len(listOfNumbers));\n",
    "\n"
   ]
  },
  {
   "cell_type": "code",
   "execution_count": null,
   "id": "40097b7b",
   "metadata": {},
   "outputs": [],
   "source": []
  }
 ],
 "metadata": {
  "kernelspec": {
   "display_name": "Python 3",
   "language": "python",
   "name": "python3"
  },
  "language_info": {
   "codemirror_mode": {
    "name": "ipython",
    "version": 3
   },
   "file_extension": ".py",
   "mimetype": "text/x-python",
   "name": "python",
   "nbconvert_exporter": "python",
   "pygments_lexer": "ipython3",
   "version": "3.8.8"
  }
 },
 "nbformat": 4,
 "nbformat_minor": 5
}
