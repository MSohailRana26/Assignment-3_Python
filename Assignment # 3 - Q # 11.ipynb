{
 "cells": [
  {
   "cell_type": "code",
   "execution_count": 8,
   "id": "773d0e48",
   "metadata": {
    "scrolled": true
   },
   "outputs": [
    {
     "name": "stdout",
     "output_type": "stream",
     "text": [
      "Largest Number of List is: 49\n"
     ]
    }
   ],
   "source": [
    "# Question # 11:\n",
    "# Write a Python program to get the largest number from a numeric list.\n",
    "listOfNumbers = [1,12,3,14,5,16,7,8,49,10];\n",
    "print(\"Largest Number of List is:\" , max(listOfNumbers));\n",
    "\n"
   ]
  },
  {
   "cell_type": "code",
   "execution_count": null,
   "id": "b7795c29",
   "metadata": {},
   "outputs": [],
   "source": []
  }
 ],
 "metadata": {
  "kernelspec": {
   "display_name": "Python 3",
   "language": "python",
   "name": "python3"
  },
  "language_info": {
   "codemirror_mode": {
    "name": "ipython",
    "version": 3
   },
   "file_extension": ".py",
   "mimetype": "text/x-python",
   "name": "python",
   "nbconvert_exporter": "python",
   "pygments_lexer": "ipython3",
   "version": "3.8.8"
  }
 },
 "nbformat": 4,
 "nbformat_minor": 5
}
