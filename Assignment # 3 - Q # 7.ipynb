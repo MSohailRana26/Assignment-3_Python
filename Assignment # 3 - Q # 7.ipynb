{
 "cells": [
  {
   "cell_type": "code",
   "execution_count": 4,
   "id": "6146d59e",
   "metadata": {},
   "outputs": [
    {
     "name": "stdout",
     "output_type": "stream",
     "text": [
      "Enter Marks Obtained in Urdu: 45\n",
      "Enter Marks Obtained in Maths: 56\n",
      "Enter Marks Obtained in Science: 78\n",
      "Enter Marks Obtained in English: 91\n",
      "Enter Marks Obtained in Islamiat: 72\n",
      "Total Marks Obtained:  342\n",
      "Total Marks:  500\n",
      "Grade: B , 68.4 %\n"
     ]
    }
   ],
   "source": [
    "# Question # 7:\n",
    "# Write a Python program which takes 5 inputs from user for different subject's marks, \n",
    "# total it and generate marks sheet using grade.\n",
    "urdu = input(\"Enter Marks Obtained in Urdu: \");\n",
    "maths = input(\"Enter Marks Obtained in Maths: \");\n",
    "science = input(\"Enter Marks Obtained in Science: \");\n",
    "english = input(\"Enter Marks Obtained in English: \");\n",
    "islamiat = input(\"Enter Marks Obtained in Islamiat: \");\n",
    "total_marks = int(islamiat) + int(urdu) + int(maths) + int(science) + int(english);\n",
    "print(\"Total Marks Obtained: \", total_marks);\n",
    "print(\"Total Marks: \", 500);\n",
    "# Grade & Percentage Calculations\n",
    "percentage = total_marks / 500 * 100;\n",
    "if percentage >=80 and percentage<=100:\n",
    "    print(\"Grade: A-One ,\" , percentage,\"%\");\n",
    "elif percentage >=70 and percentage<80:\n",
    "    print(\"Grade: A , \" , percentage,\"%\");\n",
    "elif percentage >=60 and percentage<70:\n",
    "    print(\"Grade: B ,\" , percentage,\"%\");\n",
    "elif percentage >=50 and percentage<60:\n",
    "    print(\"Grade: D ,\" , percentage,\"%\");\n",
    "elif percentage >=33 and percentage<=40:\n",
    "        print(\"Grade: E ,\" , percentage,\"%\");\n",
    "else:\n",
    "    print(\"Failed ,\" , percentage,\"%\");\n",
    "   "
   ]
  },
  {
   "cell_type": "code",
   "execution_count": null,
   "id": "17e9fa00",
   "metadata": {},
   "outputs": [],
   "source": []
  }
 ],
 "metadata": {
  "kernelspec": {
   "display_name": "Python 3",
   "language": "python",
   "name": "python3"
  },
  "language_info": {
   "codemirror_mode": {
    "name": "ipython",
    "version": 3
   },
   "file_extension": ".py",
   "mimetype": "text/x-python",
   "name": "python",
   "nbconvert_exporter": "python",
   "pygments_lexer": "ipython3",
   "version": "3.8.8"
  }
 },
 "nbformat": 4,
 "nbformat_minor": 5
}
