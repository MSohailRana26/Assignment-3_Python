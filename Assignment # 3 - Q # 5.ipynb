{
 "cells": [
  {
   "cell_type": "code",
   "execution_count": 14,
   "id": "318ebb30",
   "metadata": {},
   "outputs": [
    {
     "name": "stdout",
     "output_type": "stream",
     "text": [
      "Enter your First Name: Sohail\n",
      "Enter your Last Name: Rana\n",
      "Your Full Name is:  Sohail Rana\n",
      "Your Full Name in Reverse Order:  liahoS anaR\n"
     ]
    }
   ],
   "source": [
    "# Question No. 5.\n",
    "# Write a Python program which accepts the User's First and last Name and prints them in Reverse Order with a Space between them.\n",
    "firstName = input(\"Enter your First Name: \");\n",
    "lastName = input(\"Enter your Last Name: \");\n",
    "print(\"Your Full Name is: \", firstName , lastName);\n",
    "fullName = firstName + lastName;\n",
    "lenFullName = len(fullName);\n",
    "print(\"Your Full Name in Reverse Order: \" , firstName[::-1] + \" \" +  lastName[::-1]);\n"
   ]
  },
  {
   "cell_type": "code",
   "execution_count": null,
   "id": "4403caec",
   "metadata": {},
   "outputs": [],
   "source": []
  },
  {
   "cell_type": "code",
   "execution_count": null,
   "id": "4b509be6",
   "metadata": {},
   "outputs": [],
   "source": []
  },
  {
   "cell_type": "code",
   "execution_count": null,
   "id": "4e8af5ed",
   "metadata": {},
   "outputs": [],
   "source": []
  }
 ],
 "metadata": {
  "kernelspec": {
   "display_name": "Python 3",
   "language": "python",
   "name": "python3"
  },
  "language_info": {
   "codemirror_mode": {
    "name": "ipython",
    "version": 3
   },
   "file_extension": ".py",
   "mimetype": "text/x-python",
   "name": "python",
   "nbconvert_exporter": "python",
   "pygments_lexer": "ipython3",
   "version": "3.8.8"
  }
 },
 "nbformat": 4,
 "nbformat_minor": 5
}
