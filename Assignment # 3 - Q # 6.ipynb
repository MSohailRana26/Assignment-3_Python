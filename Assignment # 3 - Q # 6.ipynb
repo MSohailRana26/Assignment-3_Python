{
 "cells": [
  {
   "cell_type": "code",
   "execution_count": 3,
   "id": "aba58e45",
   "metadata": {},
   "outputs": [
    {
     "name": "stdout",
     "output_type": "stream",
     "text": [
      "Enter First Number: 34\n",
      "Enter Second Number: 45\n",
      "Addition of these two numbers is =  79\n"
     ]
    }
   ],
   "source": [
    "# Question # 6:\n",
    "# Write a Python program which takes two inputs from user and print their addition.\n",
    "number1 = input(\"Enter First Number: \");\n",
    "number2 = input(\"Enter Second Number: \");\n",
    "print(\"Addition of these two numbers is = \", int(number1) + int(number2));\n"
   ]
  },
  {
   "cell_type": "code",
   "execution_count": null,
   "id": "52855404",
   "metadata": {},
   "outputs": [],
   "source": []
  }
 ],
 "metadata": {
  "kernelspec": {
   "display_name": "Python 3",
   "language": "python",
   "name": "python3"
  },
  "language_info": {
   "codemirror_mode": {
    "name": "ipython",
    "version": 3
   },
   "file_extension": ".py",
   "mimetype": "text/x-python",
   "name": "python",
   "nbconvert_exporter": "python",
   "pygments_lexer": "ipython3",
   "version": "3.8.8"
  }
 },
 "nbformat": 4,
 "nbformat_minor": 5
}
