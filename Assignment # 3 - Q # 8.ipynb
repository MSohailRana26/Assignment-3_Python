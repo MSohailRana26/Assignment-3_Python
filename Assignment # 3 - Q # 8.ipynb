{
 "cells": [
  {
   "cell_type": "code",
   "execution_count": 5,
   "id": "fdc4354c",
   "metadata": {
    "scrolled": true
   },
   "outputs": [
    {
     "name": "stdout",
     "output_type": "stream",
     "text": [
      "Enter a number: 34\n",
      "Given number is Even.\n"
     ]
    }
   ],
   "source": [
    "# Question # 8:\n",
    "# Write a Python program which takes input from user and identify that the given number is even or odd.\n",
    "number = int(input(\"Enter a number: \"));\n",
    "if (number%2) == 0:\n",
    "    print(\"Given number is Even.\");\n",
    "else:\n",
    "    print(\"Given number is Odd.\");\n"
   ]
  },
  {
   "cell_type": "code",
   "execution_count": null,
   "id": "28ad2f42",
   "metadata": {},
   "outputs": [],
   "source": []
  }
 ],
 "metadata": {
  "kernelspec": {
   "display_name": "Python 3",
   "language": "python",
   "name": "python3"
  },
  "language_info": {
   "codemirror_mode": {
    "name": "ipython",
    "version": 3
   },
   "file_extension": ".py",
   "mimetype": "text/x-python",
   "name": "python",
   "nbconvert_exporter": "python",
   "pygments_lexer": "ipython3",
   "version": "3.8.8"
  }
 },
 "nbformat": 4,
 "nbformat_minor": 5
}
