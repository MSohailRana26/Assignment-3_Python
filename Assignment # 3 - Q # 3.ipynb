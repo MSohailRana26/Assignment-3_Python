{
 "cells": [
  {
   "cell_type": "code",
   "execution_count": 1,
   "id": "f8b7b0a4",
   "metadata": {},
   "outputs": [
    {
     "name": "stdout",
     "output_type": "stream",
     "text": [
      "2021-10-23 22:49:37.861617\n"
     ]
    }
   ],
   "source": [
    "# Question # 3:\n",
    "# Write a Python program to display the current date and tie.\n",
    "from datetime import datetime;\n",
    "print(datetime.now());"
   ]
  },
  {
   "cell_type": "code",
   "execution_count": null,
   "id": "09639955",
   "metadata": {},
   "outputs": [],
   "source": []
  }
 ],
 "metadata": {
  "kernelspec": {
   "display_name": "Python 3",
   "language": "python",
   "name": "python3"
  },
  "language_info": {
   "codemirror_mode": {
    "name": "ipython",
    "version": 3
   },
   "file_extension": ".py",
   "mimetype": "text/x-python",
   "name": "python",
   "nbconvert_exporter": "python",
   "pygments_lexer": "ipython3",
   "version": "3.8.8"
  }
 },
 "nbformat": 4,
 "nbformat_minor": 5
}
